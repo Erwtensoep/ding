{
 "cells": [
  {
   "cell_type": "code",
   "execution_count": null,
   "metadata": {
    "collapsed": true
   },
   "outputs": [],
   "source": [
    "# Make sure you have all the packages below installed in your python installation.\n",
    "import numpy as np\n",
    "import pandas as pd\n",
    "import matplotlib.pyplot as plt\n",
    "import matplotlib.gridspec as gridspec\n",
    "%matplotlib inline  \n",
    "import sys"
   ]
  },
  {
   "cell_type": "code",
   "execution_count": null,
   "metadata": {
    "collapsed": false
   },
   "outputs": [],
   "source": [
    "# To be able to run the lines below, you need to have installed allensdk. If you don't have it \n",
    "# yet, go to where you have your python installation (e.g., the anaconda directory) and type:\n",
    "# pip install allensdk\n",
    "from allensdk.core.brain_observatory_cache import BrainObservatoryCache\n",
    "boc =  BrainObservatoryCache(manifest_file='boc/manifest.json')"
   ]
  },
  {
   "cell_type": "code",
   "execution_count": null,
   "metadata": {
    "collapsed": false
   },
   "outputs": [],
   "source": [
    "from allensdk.brain_observatory.drifting_gratings import DriftingGratings\n",
    "# 541512399\n",
    "data_set = boc.get_ophys_experiment_data(502376461)\n",
    "dg = DriftingGratings(data_set)"
   ]
  },
  {
   "cell_type": "code",
   "execution_count": null,
   "metadata": {
    "collapsed": false
   },
   "outputs": [],
   "source": [
    "from allensdk.core.cell_types_cache import CellTypesCache\n",
    "import pandas as pd\n",
    "# Instantiate the CellTypesCache instance.  The manifest_file argument\n",
    "# tells it where to store the manifest, which is a JSON file that tracks\n",
    "# file paths.  If you supply a relative path (like this), it will go\n",
    "# into your current working directory\n",
    "ctc = CellTypesCache(manifest_file='cell_types/manifest.json')\n",
    "\n",
    "# this saves the NWB file to 'cell_types/specimen_464212183/ephys.nwb'\n",
    "cell_specimen_id = 464212183\n",
    "data_set = ctc.get_ephys_data(cell_specimen_id)\n",
    "cell_specimens =  pd.DataFrame(ctc.get_cell_specimens())"
   ]
  },
  {
   "cell_type": "code",
   "execution_count": null,
   "metadata": {
    "collapsed": false
   },
   "outputs": [],
   "source": [
    "def get_dff_traces_and_stim_table(cell_specimen_id, stimulus):  \n",
    "    import pandas as pd\n",
    "    print(\"Downloading cell_specimens. This will take a while the first time it is run.\")\n",
    "    cell_specimens = pd.DataFrame(boc.get_cell_specimens())\n",
    "    expt_id = cell_specimens[cell_specimens.cell_specimen_id==cell_specimen_id].experiment_container_id.values[0]\n",
    "    session_id = boc.get_ophys_experiments(stimuli=[stimulus],experiment_container_ids=[expt_id])[0]['id']\n",
    "    print(\"Opening NWB file for ophys session. This will take several minutes if the file isn't downloaded yet.\")\n",
    "    data_set = boc.get_ophys_experiment_data(session_id)\n",
    "    print(\"All Done\")\n",
    "    timestamps, dff = data_set.get_dff_traces(cell_specimen_ids=[cell_specimen_id])\n",
    "    dff_trace = dff[0,:]\n",
    "    stim_table = data_set.get_stimulus_table(stimulus)\n",
    "    return (timestamps, dff_trace, stim_table)\n"
   ]
  },
  {
   "cell_type": "code",
   "execution_count": null,
   "metadata": {
    "collapsed": false
   },
   "outputs": [],
   "source": [
    "# You can get a cell by running the function above for a certain cell id, e.g., 541512399\n",
    "cell = 541512399\n",
    "timestamps, dff_trace, stim_table = get_dff_traces_and_stim_table(cell, 'drifting_gratings')\n",
    "cell_response= np.zeros((len(stim_table),3))\n",
    "for k in range(len(stim_table)):\n",
    "    cell_response[k,0] = stim_table.orientation[k]\n",
    "    cell_response[k,1] = stim_table.temporal_frequency[k]\n",
    "    cell_response[k,2] = dff_trace[stim_table.start[k]:stim_table.end[k]].mean()\n",
    "        \n",
    "all_ori = np.unique(cell_response[:,0])\n",
    "orivals = all_ori[np.isfinite(all_ori)]\n",
    "\n",
    "tuning = np.empty(len(orivals))\n",
    "for i, ori in enumerate(orivals):\n",
    "    trials = np.where(cell_response[:,0]==ori)[0]\n",
    "    tuning[i] = cell_response[trials,2].mean()\n",
    "\n",
    "tfvals = np.unique(cell_response[:,1])\n",
    "tfvals = tfvals[np.isfinite(tfvals)]\n",
    "\n",
    "tuning_tf = np.empty(len(tfvals))\n",
    "for i, tf in enumerate(tfvals):\n",
    "    trials = np.where(cell_response[:,1]==tf)[0]\n",
    "    tuning_tf[i] = cell_response[trials,2].mean()"
   ]
  },
  {
   "cell_type": "code",
   "execution_count": null,
   "metadata": {
    "collapsed": false
   },
   "outputs": [],
   "source": [
    "# Create a plot for the cell you are studying\n",
    "fig=plt.figure()\n",
    "# Create grispec object and define each subplot\n",
    "gs = gridspec.GridSpec(2, 4)\n",
    "gs.update(wspace=0.9, hspace=0.9) # better spacing\n",
    "ax0 = plt.subplot(gs[0, :]) \n",
    "ax1 = plt.subplot(gs[1, :]) \n",
    "\n",
    "ax0.plot(orivals, tuning, 'o-')\n",
    "ax0.set_xlim(0,360)\n",
    "ax0.set_xticks(orivals)\n",
    "ax0.set_xlabel(\"Direction (deg)\", fontsize=12)\n",
    "ax0.set_ylabel(\"DF/F\", fontsize=12)\n",
    "\n",
    "ax1.plot(tfvals, tuning_tf, 'o-')\n",
    "ax1.set_xlim(0,20)\n",
    "ax1.set_xticks(tfvals)\n",
    "ax1.set_xlabel(\"temporal frequency (Hz)\", fontsize=12)\n",
    "ax1.set_ylabel(\"DF/F\", fontsize=12)\n",
    "\n",
    "ax0.set_title('Flourence v. Orientation')\n",
    "ax1.set_title('Flourence v. Frequency')\n",
    "fig.suptitle('Tuning Curves for cell id'+str(cell),fontsize=16)"
   ]
  },
  {
   "cell_type": "code",
   "execution_count": null,
   "metadata": {
    "collapsed": true
   },
   "outputs": [],
   "source": []
  }
 ],
 "metadata": {
  "kernelspec": {
   "display_name": "Python 3",
   "language": "python",
   "name": "python3"
  },
  "language_info": {
   "codemirror_mode": {
    "name": "ipython",
    "version": 3
   },
   "file_extension": ".py",
   "mimetype": "text/x-python",
   "name": "python",
   "nbconvert_exporter": "python",
   "pygments_lexer": "ipython3",
   "version": "3.5.2"
  }
 },
 "nbformat": 4,
 "nbformat_minor": 2
}
